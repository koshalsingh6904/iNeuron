{
 "cells": [
  {
   "cell_type": "markdown",
   "metadata": {},
   "source": [
    "# PYTHON PROGRAMMING ASSIGNMENT 9"
   ]
  },
  {
   "cell_type": "markdown",
   "metadata": {},
   "source": [
    "### 1.\tWrite a Python program to check if the given number is a Disarium Number?"
   ]
  },
  {
   "cell_type": "code",
   "execution_count": 4,
   "metadata": {},
   "outputs": [
    {
     "name": "stdout",
     "output_type": "stream",
     "text": [
      "yes number is a Disarium Number\n"
     ]
    }
   ],
   "source": [
    "def lencalculator(n):\n",
    "    l = 0\n",
    "    while n!=0:\n",
    "        l = l+1\n",
    "        n= n//10\n",
    "    return l\n",
    "num = 175\n",
    "n= num\n",
    "rem=sum=0\n",
    "len= lencalculator(175)\n",
    "while num>0:\n",
    "    rem = num%10\n",
    "    sum+=int(rem**len)\n",
    "    num= num//10\n",
    "    len =len -1\n",
    "if sum==n:\n",
    "    print(\"yes number is a Disarium Number\")\n",
    "else:\n",
    "     print(\"No number is not a Disarium Number\")\n",
    "    "
   ]
  },
  {
   "cell_type": "markdown",
   "metadata": {},
   "source": [
    "### 2.\tWrite a Python program to print all disarium numbers between 1 to 100?"
   ]
  },
  {
   "cell_type": "code",
   "execution_count": 13,
   "metadata": {},
   "outputs": [],
   "source": [
    "def lencalculator(n):\n",
    "    l = 0\n",
    "    while n!=0:\n",
    "        l = l+1\n",
    "        n= n//10\n",
    "    return l\n",
    "\n"
   ]
  },
  {
   "cell_type": "code",
   "execution_count": 20,
   "metadata": {},
   "outputs": [
    {
     "name": "stdout",
     "output_type": "stream",
     "text": [
      "1\n",
      "2\n",
      "3\n",
      "4\n",
      "5\n",
      "6\n",
      "7\n",
      "8\n",
      "9\n",
      "89\n"
     ]
    }
   ],
   "source": [
    "for i in range(1,101):\n",
    "    n= i\n",
    "    rem=sum=0\n",
    "    len= lencalculator(i)\n",
    "    #print(len)\n",
    "    while i>0:\n",
    "        rem = i%10\n",
    "        sum+=int(rem**len)\n",
    "        i= i//10\n",
    "        len =len -1\n",
    "    if sum==n:\n",
    "        print(sum)\n",
    "   "
   ]
  },
  {
   "cell_type": "markdown",
   "metadata": {},
   "source": [
    "### 3.\tWrite a Python program to check if the given number is Happy Number?"
   ]
  },
  {
   "cell_type": "code",
   "execution_count": 24,
   "metadata": {},
   "outputs": [
    {
     "name": "stdout",
     "output_type": "stream",
     "text": [
      "82 is a happy number\n"
     ]
    }
   ],
   "source": [
    "def isHappyNumber(num):    \n",
    "    rem = sum = 0;     \n",
    "    while(num > 0):    \n",
    "        rem = num%10;    \n",
    "        sum = sum + (rem*rem);    \n",
    "        num = num//10;    \n",
    "    return sum;    \n",
    "        \n",
    "num = 82;    \n",
    "result = num;    \n",
    "     \n",
    "while(result != 1 and result != 4):    \n",
    "    result = isHappyNumber(result);     \n",
    "if(result == 1):    \n",
    "    print(str(num) + \" is a happy number\");       \n",
    "elif(result == 4):    \n",
    "    print(str(num) + \" is not a happy number\");   "
   ]
  },
  {
   "cell_type": "markdown",
   "metadata": {},
   "source": [
    "### 4.\tWrite a Python program to print all happy numbers between 1 and 100?"
   ]
  },
  {
   "cell_type": "code",
   "execution_count": 29,
   "metadata": {},
   "outputs": [
    {
     "name": "stdout",
     "output_type": "stream",
     "text": [
      "7 is a happy number\n",
      "10 is a happy number\n",
      "13 is a happy number\n",
      "19 is a happy number\n",
      "23 is a happy number\n",
      "28 is a happy number\n",
      "31 is a happy number\n",
      "32 is a happy number\n",
      "44 is a happy number\n",
      "49 is a happy number\n",
      "68 is a happy number\n",
      "70 is a happy number\n",
      "79 is a happy number\n",
      "82 is a happy number\n",
      "86 is a happy number\n",
      "91 is a happy number\n",
      "94 is a happy number\n",
      "97 is a happy number\n",
      "100 is a happy number\n"
     ]
    }
   ],
   "source": [
    "def isHappyNumber(num):    \n",
    "    rem = sum = 0     \n",
    "    while(num > 0):    \n",
    "        rem = num%10    \n",
    "        sum = sum + (rem*rem)    \n",
    "        num = num//10    \n",
    "    return sum    \n",
    "for i in range(1,101):\n",
    "    r = i\n",
    "    while (i!=1 and i!=4):\n",
    "        i = isHappyNumber(i)\n",
    "        if(i == 1):    \n",
    "            print(str(r) + \" is a happy number\")\n",
    "        "
   ]
  },
  {
   "cell_type": "markdown",
   "metadata": {},
   "source": [
    "### 5.\tWrite a Python program to determine whether the given number is a Harshad Number?"
   ]
  },
  {
   "cell_type": "code",
   "execution_count": 37,
   "metadata": {},
   "outputs": [
    {
     "name": "stdout",
     "output_type": "stream",
     "text": [
      "156 is a harshad number\n"
     ]
    }
   ],
   "source": [
    "num = 156    \n",
    "rem = sum = 0       \n",
    "n = num   \n",
    "while(num > 0):    \n",
    "    rem = num%10   \n",
    "    sum = sum + rem    \n",
    "    num = num//10       \n",
    "if(n%sum == 0):    \n",
    "    print(str(n) + \" is a harshad number\")    \n",
    "else:    \n",
    "    print(str(n) + \" is not a harshad number\")    "
   ]
  },
  {
   "cell_type": "markdown",
   "metadata": {},
   "source": [
    "### 6.\tWrite a Python program to print all pronic numbers between 1 and 100?"
   ]
  },
  {
   "cell_type": "code",
   "execution_count": 2,
   "metadata": {},
   "outputs": [
    {
     "name": "stdout",
     "output_type": "stream",
     "text": [
      "Pronic numbers between 1 and 100: \n",
      "2\n",
      "6\n",
      "12\n",
      "20\n",
      "30\n",
      "42\n",
      "56\n",
      "72\n",
      "90\n"
     ]
    }
   ],
   "source": [
    "def isPronicNumber(num):    \n",
    "    flag = False        \n",
    "    for j in range(1, num+1):        \n",
    "        if((j*(j+1)) == num):    \n",
    "            flag = True    \n",
    "            break   \n",
    "    return flag    \n",
    "  \n",
    "print(\"Pronic numbers between 1 and 100: \")   \n",
    "for i in range(1, 101):    \n",
    "    if(isPronicNumber(i)):    \n",
    "        print(i)    \n",
    "        "
   ]
  },
  {
   "cell_type": "code",
   "execution_count": null,
   "metadata": {},
   "outputs": [],
   "source": []
  }
 ],
 "metadata": {
  "kernelspec": {
   "display_name": "Python 3",
   "language": "python",
   "name": "python3"
  },
  "language_info": {
   "codemirror_mode": {
    "name": "ipython",
    "version": 3
   },
   "file_extension": ".py",
   "mimetype": "text/x-python",
   "name": "python",
   "nbconvert_exporter": "python",
   "pygments_lexer": "ipython3",
   "version": "3.8.5"
  }
 },
 "nbformat": 4,
 "nbformat_minor": 4
}
