{
 "cells": [
  {
   "cell_type": "markdown",
   "metadata": {},
   "source": [
    "# PYTHON PROGRAMMING ASSIGNMENT 23"
   ]
  },
  {
   "cell_type": "markdown",
   "metadata": {},
   "source": [
    "### Question 1. Create a function that takes a number as an argument and returns True or False depending on whether the number is symmetrical or not. A number is symmetrical when it is the same as its reverse.\n",
    "Examples\n",
    "is_symmetrical(7227) ➞ True\n",
    "\n",
    "is_symmetrical(12567) ➞ False\n",
    "\n",
    "is_symmetrical(44444444) ➞ True\n",
    "\n",
    "is_symmetrical(9939) ➞ False\n",
    "\n",
    "is_symmetrical(1112111) ➞ True\n",
    "\n"
   ]
  },
  {
   "cell_type": "code",
   "execution_count": 1,
   "metadata": {},
   "outputs": [],
   "source": [
    "def is_symmetrical(n):\n",
    "    return str(n) == str(n)[::-1]"
   ]
  },
  {
   "cell_type": "code",
   "execution_count": 2,
   "metadata": {},
   "outputs": [
    {
     "data": {
      "text/plain": [
       "True"
      ]
     },
     "execution_count": 2,
     "metadata": {},
     "output_type": "execute_result"
    }
   ],
   "source": [
    "is_symmetrical(7227)"
   ]
  },
  {
   "cell_type": "code",
   "execution_count": 3,
   "metadata": {},
   "outputs": [
    {
     "data": {
      "text/plain": [
       "False"
      ]
     },
     "execution_count": 3,
     "metadata": {},
     "output_type": "execute_result"
    }
   ],
   "source": [
    "is_symmetrical(9939)"
   ]
  },
  {
   "cell_type": "markdown",
   "metadata": {},
   "source": [
    "### Question 2. Given a string of numbers separated by a comma and space, return the product of the numbers.\n",
    "Examples\n",
    "multiply_nums(\"2, 3\") ➞ 6\n",
    "\n",
    "multiply_nums(\"1, 2, 3, 4\") ➞ 24\n",
    "\n",
    "multiply_nums(\"54, 75, 453, 0\") ➞ 0\n",
    "\n",
    "multiply_nums(\"10, -2\") ➞ -20\n",
    "\n"
   ]
  },
  {
   "cell_type": "code",
   "execution_count": 11,
   "metadata": {},
   "outputs": [],
   "source": [
    "def multiply_nums(l):\n",
    "    n_l = l.split(',')\n",
    "    mul = 1\n",
    "    for i in n_l:\n",
    "        mul = mul*int(i)\n",
    "    return mul    "
   ]
  },
  {
   "cell_type": "code",
   "execution_count": 12,
   "metadata": {},
   "outputs": [
    {
     "data": {
      "text/plain": [
       "24"
      ]
     },
     "execution_count": 12,
     "metadata": {},
     "output_type": "execute_result"
    }
   ],
   "source": [
    "multiply_nums(\"1, 2, 3, 4\")"
   ]
  },
  {
   "cell_type": "markdown",
   "metadata": {},
   "source": [
    "### Question 3. Create a function that squares every digit of a number.\n",
    "Examples\n",
    "square_digits(9119) ➞ 811181\n",
    "\n",
    "square_digits(2483) ➞ 416649\n",
    "\n",
    "square_digits(3212) ➞ 9414\n",
    "Notes\n",
    "The function receive an integer and must return an integer\n"
   ]
  },
  {
   "cell_type": "code",
   "execution_count": 19,
   "metadata": {},
   "outputs": [],
   "source": [
    "def square_digits(n):\n",
    "    t = []\n",
    "    while n>0:\n",
    "        r=n%10\n",
    "        t.append(str(r**2))\n",
    "        n=n//10\n",
    "    sq=t[::-1]\n",
    "    sq=''.join(sq)\n",
    "    return int(sq)\n"
   ]
  },
  {
   "cell_type": "code",
   "execution_count": 20,
   "metadata": {},
   "outputs": [
    {
     "data": {
      "text/plain": [
       "416649"
      ]
     },
     "execution_count": 20,
     "metadata": {},
     "output_type": "execute_result"
    }
   ],
   "source": [
    "square_digits(2483)"
   ]
  },
  {
   "cell_type": "markdown",
   "metadata": {},
   "source": [
    "### Question 4.Create a function that sorts a list and removes all duplicate items from it.\n",
    "Examples\n",
    "setify([1, 3, 3, 5, 5]) ➞ [1, 3, 5]\n",
    "\n",
    "setify([4, 4, 4, 4]) ➞ [4]\n",
    "\n",
    "setify([5, 7, 8, 9, 10, 15]) ➞ [5, 7, 8, 9, 10, 15]\n",
    "\n",
    "setify([3, 3, 3, 2, 1]) ➞ [1, 2, 3]\n",
    "\n"
   ]
  },
  {
   "cell_type": "code",
   "execution_count": 21,
   "metadata": {},
   "outputs": [],
   "source": [
    "def setify(l):\n",
    "    try:\n",
    "        l=set(l)\n",
    "    except Exception as e:\n",
    "        print(f'Exception is : {e}')\n",
    "    else:\n",
    "        return list(l)"
   ]
  },
  {
   "cell_type": "code",
   "execution_count": 22,
   "metadata": {},
   "outputs": [
    {
     "data": {
      "text/plain": [
       "[1, 3, 5]"
      ]
     },
     "execution_count": 22,
     "metadata": {},
     "output_type": "execute_result"
    }
   ],
   "source": [
    "setify([1, 3, 3, 5, 5])"
   ]
  },
  {
   "cell_type": "markdown",
   "metadata": {},
   "source": [
    "### Question 5. Create a function that returns the mean of all digits.\n",
    "Examples\n",
    "mean(42) ➞ 3\n",
    "\n",
    "mean(12345) ➞ 3\n",
    "\n",
    "mean(666) ➞ 6\n",
    "Notes\n",
    "•\tThe mean of all digits is the sum of digits / how many digits there are (e.g. mean of digits in 512 is (5+1+2)/3(number of digits) = 8/3=2).\n",
    "•\tThe mean will always be an integer.\n",
    "\n"
   ]
  },
  {
   "cell_type": "code",
   "execution_count": 23,
   "metadata": {},
   "outputs": [],
   "source": [
    "def mean(n):\n",
    "    t = len(str(n))\n",
    "    sum = 0  \n",
    "    while n>0:\n",
    "        r=n%10\n",
    "        sum = sum +r\n",
    "        n=n//10\n",
    "    return int(sum/t)  "
   ]
  },
  {
   "cell_type": "code",
   "execution_count": 24,
   "metadata": {},
   "outputs": [
    {
     "data": {
      "text/plain": [
       "3"
      ]
     },
     "execution_count": 24,
     "metadata": {},
     "output_type": "execute_result"
    }
   ],
   "source": [
    "mean(42)"
   ]
  },
  {
   "cell_type": "code",
   "execution_count": null,
   "metadata": {},
   "outputs": [],
   "source": []
  }
 ],
 "metadata": {
  "kernelspec": {
   "display_name": "Python 3",
   "language": "python",
   "name": "python3"
  },
  "language_info": {
   "codemirror_mode": {
    "name": "ipython",
    "version": 3
   },
   "file_extension": ".py",
   "mimetype": "text/x-python",
   "name": "python",
   "nbconvert_exporter": "python",
   "pygments_lexer": "ipython3",
   "version": "3.8.5"
  }
 },
 "nbformat": 4,
 "nbformat_minor": 4
}
