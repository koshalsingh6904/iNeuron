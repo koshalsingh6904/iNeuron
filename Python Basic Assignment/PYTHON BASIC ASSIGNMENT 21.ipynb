{
 "cells": [
  {
   "cell_type": "markdown",
   "metadata": {},
   "source": [
    "# PYTHON BASIC ASSIGNMENT 21"
   ]
  },
  {
   "cell_type": "markdown",
   "metadata": {},
   "source": [
    "### 1. Add the current date to the text file today.txt as a string.\n"
   ]
  },
  {
   "cell_type": "code",
   "execution_count": 2,
   "metadata": {},
   "outputs": [
    {
     "name": "stdout",
     "output_type": "stream",
     "text": [
      "2021-07-26 08:08:12.838277\n",
      "26/07/2021\n"
     ]
    }
   ],
   "source": [
    "import datetime\n",
    "\n",
    "today=datetime.datetime.now()\n",
    "print(today)\n",
    "today_str=today.strftime('%d/%m/%Y')\n",
    "print(today_str)\n",
    "\n",
    "with open('today.txt','w') as file:\n",
    "    file.write(today_str)"
   ]
  },
  {
   "cell_type": "markdown",
   "metadata": {},
   "source": [
    "### 2. Read the text file today.txt into the string today_string\n"
   ]
  },
  {
   "cell_type": "code",
   "execution_count": 3,
   "metadata": {},
   "outputs": [
    {
     "name": "stdout",
     "output_type": "stream",
     "text": [
      "26/07/2021\n"
     ]
    }
   ],
   "source": [
    "with open('today.txt') as file_r:\n",
    "    today_string=file_r.read()\n",
    "    print(today_string)"
   ]
  },
  {
   "cell_type": "markdown",
   "metadata": {},
   "source": [
    "### 3. Parse the date from today_string.\n"
   ]
  },
  {
   "cell_type": "code",
   "execution_count": 4,
   "metadata": {},
   "outputs": [
    {
     "name": "stdout",
     "output_type": "stream",
     "text": [
      "2021-07-26\n",
      "<class 'datetime.datetime'>\n"
     ]
    }
   ],
   "source": [
    "today_string\n",
    "parse=datetime.datetime.strptime(today_string,'%d/%m/%Y')\n",
    "print(parse.date())\n",
    "print(type(parse))"
   ]
  },
  {
   "cell_type": "markdown",
   "metadata": {},
   "source": [
    "### 4. List the files in your current directory\n"
   ]
  },
  {
   "cell_type": "code",
   "execution_count": 5,
   "metadata": {},
   "outputs": [
    {
     "name": "stdout",
     "output_type": "stream",
     "text": [
      "['13th jan python string and list manupulation.ipynb', '7th march live class notebook for loop while and range function  (1).ipynb', 'amplify_n.log', 'ascii_capitalize.log', 'ASSIGNMENT TASK.ipynb', 'basic python koshal.ipynb', 'books.csv', 'books.db', 'circle.log', 'class and object.ipynb', 'dict_to_list.log', 'equal.log', 'exception handling.ipynb', 'file.ipynb', 'Function and files.ipynb', 'is_triplet.log', 'koshal_2_tuples,set,dictionaries&function.ipynb', 'logging and debuging.ipynb', 'mapping.log', 'module.ipynb', 'modules.ipynb', 'moving_and_consolidating_docx_files.ipynb', 'oops 2 (1).ipynb', 'oops 2 (2).ipynb', 'oops 2.ipynb', 'python assignment_1.ipynb', 'PYTHON BASIC ASSIGNMENT 10.ipynb', 'PYTHON BASIC ASSIGNMENT 11.ipynb', 'PYTHON BASIC ASSIGNMENT 12.ipynb', 'PYTHON BASIC ASSIGNMENT 13.ipynb', 'PYTHON BASIC ASSIGNMENT 14.ipynb', 'PYTHON BASIC ASSIGNMENT 15.ipynb', 'PYTHON BASIC ASSIGNMENT 16.ipynb', 'PYTHON BASIC ASSIGNMENT 17.ipynb', 'PYTHON BASIC ASSIGNMENT 18.ipynb', 'PYTHON BASIC ASSIGNMENT 19.ipynb', 'Python basic Assignment 2.ipynb', 'PYTHON BASIC ASSIGNMENT 20.ipynb', 'PYTHON BASIC ASSIGNMENT 21.ipynb', 'PYTHON BASIC ASSIGNMENT 22.ipynb', 'PYTHON BASIC ASSIGNMENT 23.ipynb', 'PYTHON BASIC ASSIGNMENT 24.ipynb', 'PYTHON BASIC ASSIGNMENT 25.ipynb', 'PYTHON BASIC ASSIGNMENT 3.ipynb', 'PYTHON BASIC ASSIGNMENT 4.ipynb', 'PYTHON BASIC ASSIGNMENT 5.ipynb', 'PYTHON BASIC ASSIGNMENT 6.ipynb', 'PYTHON BASIC ASSIGNMENT 7.ipynb', 'PYTHON BASIC ASSIGNMENT 8.ipynb', 'PYTHON BASIC ASSIGNMENT 9.ipynb', 'PYTHON PROGRAMMING ASSIGNMENT 1.ipynb', 'PYTHON PROGRAMMING ASSIGNMENT 10.ipynb', 'PYTHON PROGRAMMING ASSIGNMENT 11.ipynb', 'PYTHON PROGRAMMING ASSIGNMENT 12.ipynb', 'PYTHON PROGRAMMING ASSIGNMENT 13.ipynb', 'PYTHON PROGRAMMING ASSIGNMENT 14.ipynb', 'PYTHON PROGRAMMING ASSIGNMENT 15.ipynb', 'PYTHON PROGRAMMING ASSIGNMENT 16.ipynb', 'PYTHON PROGRAMMING ASSIGNMENT 17.ipynb', 'PYTHON PROGRAMMING ASSIGNMENT 18.ipynb', 'PYTHON PROGRAMMING ASSIGNMENT 19.ipynb', 'PYTHON PROGRAMMING ASSIGNMENT 2.ipynb', 'PYTHON PROGRAMMING ASSIGNMENT 20.ipynb', 'PYTHON PROGRAMMING ASSIGNMENT 21.ipynb', 'PYTHON PROGRAMMING ASSIGNMENT 22.ipynb', 'PYTHON PROGRAMMING ASSIGNMENT 23.ipynb', 'PYTHON PROGRAMMING ASSIGNMENT 24.ipynb', 'PYTHON PROGRAMMING ASSIGNMENT 25.ipynb', 'PYTHON PROGRAMMING ASSIGNMENT 3.ipynb', 'PYTHON PROGRAMMING ASSIGNMENT 4.ipynb', 'PYTHON PROGRAMMING ASSIGNMENT 5.ipynb', 'PYTHON PROGRAMMING ASSIGNMENT 6.ipynb', 'PYTHON PROGRAMMING ASSIGNMENT 7.ipynb', 'PYTHON PROGRAMMING ASSIGNMENT 8.ipynb', 'PYTHON PROGRAMMING ASSIGNMENT 9.ipynb', 'sort_by_length.log', 'sql basic 3 pm class.ipynb', 'sql.ipynb', 'test.jpg', 'test.txt', 'test123456.log', 'today.txt', 'TUPLE SET AND DICT.ipynb', 'unique.log', 'Untitled.ipynb', 'Untitled1.ipynb', 'Untitled2.ipynb', 'Untitled3.ipynb', 'Untitled4.ipynb', 'Untitled5.ipynb', 'Untitled6.ipynb', 'Untitled7.ipynb', 'Untitled8.ipynb', 'Untitled9.ipynb', 'vow_replace.log', 'zoo.py']\n",
      " ['logging and debuging-checkpoint.ipynb', 'oops 2 (2)-checkpoint.ipynb', 'PYTHON BASIC ASSIGNMENT 10-checkpoint.ipynb', 'PYTHON BASIC ASSIGNMENT 11-checkpoint.ipynb', 'PYTHON BASIC ASSIGNMENT 12-checkpoint.ipynb', 'PYTHON BASIC ASSIGNMENT 13-checkpoint.ipynb', 'PYTHON BASIC ASSIGNMENT 14-checkpoint.ipynb', 'PYTHON BASIC ASSIGNMENT 15-checkpoint.ipynb', 'PYTHON BASIC ASSIGNMENT 16-checkpoint.ipynb', 'PYTHON BASIC ASSIGNMENT 17-checkpoint.ipynb', 'PYTHON BASIC ASSIGNMENT 18-checkpoint.ipynb', 'PYTHON BASIC ASSIGNMENT 19-checkpoint.ipynb', 'PYTHON BASIC ASSIGNMENT 20-checkpoint.ipynb', 'PYTHON BASIC ASSIGNMENT 21-checkpoint.ipynb', 'PYTHON BASIC ASSIGNMENT 22-checkpoint.ipynb', 'PYTHON BASIC ASSIGNMENT 23-checkpoint.ipynb', 'PYTHON BASIC ASSIGNMENT 24-checkpoint.ipynb', 'PYTHON BASIC ASSIGNMENT 25-checkpoint.ipynb', 'PYTHON BASIC ASSIGNMENT 8-checkpoint.ipynb', 'PYTHON BASIC ASSIGNMENT 9-checkpoint.ipynb', 'PYTHON PROGRAMMING ASSIGNMENT 10-checkpoint.ipynb', 'PYTHON PROGRAMMING ASSIGNMENT 11-checkpoint.ipynb', 'PYTHON PROGRAMMING ASSIGNMENT 12-checkpoint.ipynb', 'PYTHON PROGRAMMING ASSIGNMENT 13-checkpoint.ipynb', 'PYTHON PROGRAMMING ASSIGNMENT 14-checkpoint.ipynb', 'PYTHON PROGRAMMING ASSIGNMENT 15-checkpoint.ipynb', 'PYTHON PROGRAMMING ASSIGNMENT 16-checkpoint.ipynb', 'PYTHON PROGRAMMING ASSIGNMENT 17-checkpoint.ipynb', 'PYTHON PROGRAMMING ASSIGNMENT 18-checkpoint.ipynb', 'PYTHON PROGRAMMING ASSIGNMENT 19-checkpoint.ipynb', 'PYTHON PROGRAMMING ASSIGNMENT 20-checkpoint.ipynb', 'PYTHON PROGRAMMING ASSIGNMENT 21-checkpoint.ipynb', 'PYTHON PROGRAMMING ASSIGNMENT 22-checkpoint.ipynb', 'PYTHON PROGRAMMING ASSIGNMENT 23-checkpoint.ipynb', 'PYTHON PROGRAMMING ASSIGNMENT 24-checkpoint.ipynb', 'PYTHON PROGRAMMING ASSIGNMENT 25-checkpoint.ipynb', 'PYTHON PROGRAMMING ASSIGNMENT 5-checkpoint.ipynb', 'PYTHON PROGRAMMING ASSIGNMENT 6-checkpoint.ipynb', 'PYTHON PROGRAMMING ASSIGNMENT 7-checkpoint.ipynb', 'PYTHON PROGRAMMING ASSIGNMENT 8-checkpoint.ipynb', 'PYTHON PROGRAMMING ASSIGNMENT 9-checkpoint.ipynb', 'Untitled-checkpoint.ipynb']\n",
      " []\n",
      " ['19.2.MySQL.ipynb', 'glass.data', 'mydata.csv', 'MYSQL application.docx', 'MYSQL application.pdf', 'Untitled.ipynb']\n",
      " ['19.2.MySQL-checkpoint.ipynb', 'Untitled-checkpoint.ipynb']\n",
      " ['mysql1.jpg', 'mysql10.jpg', 'mysql11.jpg', 'mysql12.jpg', 'mysql13.jpg', 'mysql14.jpg', 'mysql15.jpg', 'mysql16.jpg', 'mysql17.jpg', 'mysql18.jpg', 'mysql19.jpg', 'mysql2.jpg', 'mysql20.jpg', 'mysql21.jpg', 'mysql22.jpg', 'mysql23.jpg', 'mysql24.jpg', 'mysql25.jpg', 'mysql26.jpg', 'mysql27.jpg', 'mysql28.jpg', 'mysql29.jpg', 'mysql3.jpg', 'mysql30.jpg', 'mysql31.jpg', 'mysql32.jpg', 'mysql33.jpg', 'mysql4.jpg', 'mysql5.jpg', 'mysql6.jpg', 'mysql7.jpg', 'mysql8.jpg', 'mysql9.jpg']\n",
      " ['checkListOfDatabases.py', 'connectToMysql.py', 'createDatabase.py', 'createTableInDB.py', 'deleteFromTable.py', 'glass.data', 'groupByOrderBy.py', 'insertFromFile.py', 'insertToTable.py', 'selectFromDb.py', 'selectIntoDataframe.py', 'Untitled.ipynb', 'updateTable.py']\n",
      " ['Untitled-checkpoint.ipynb']\n",
      " []\n",
      " ['app.py']\n",
      " ['.gitignore', 'flask_demo.iml', 'misc.xml', 'modules.xml', 'workspace.xml']\n",
      " ['profiles_settings.xml', 'Project_Default.xml']\n",
      " []\n",
      " ['main.css', 'style.css']\n",
      " ['index.html', 'results.html']\n",
      " ['TimeStamps.txt']\n",
      " ['Chapter 0.pdf']\n",
      " ['01_hello.py', '02_pr_01_twinkle.py', '03_pr_03_module_usage.py', '04_pr_04_list_directory.py', 'Chapter 1 - Practice set.pdf', 'Chapter 1 Python.pdf', 'play.mp3']\n",
      " ['settings.json']\n",
      " ['01_oops.py', '02_railway_oops.py', '03_game_example.py', '04_employee.py', '05_instance_class_attributes.py', '06_self.py', '07_static_method.py', '08_constructor.py', '09_pr_01.py', '10_pr_02.py', '11_pr_03.py', '12_pr_04.py', '13_pr_05.py', '14_pr_06.py', 'Chapter 10 - Oops.pdf', 'Chapter 10 - Practice Set.pdf', 'tempCodeRunnerFile.py']\n",
      " ['01_inheritance.py', '02_single_inheritance.py', '03_multiple_inheritance.py', '04_multilevel_inheritance.py', '05_super.py', '06_class_methods.py', '07_property_decorator.py', '08_operator_overloading.py', '09_other_dunder_methods.py', '10_pr_01.py', '11_pr_02.py', '12_pr_03.py', '13_pr_04.py', '14_pr_05.py', '15_pr_06.py', '16_pr_07.py', 'Chapter 11 - Practice Set.pdf', 'Chapter 11.pdf', 'tempCodeRunnerFile.py']\n",
      " ['01_try.py', '02_handling_different_exceptions.py', '03_raising_exceptions.py', '04_try_with_else.py', '05_try_except_finally.py', '08_global.py', '09_enumerate.py', '1.txt', '10_list_comprehension.py', '11_pr_01.py', '12_pr_02.py', '13_pr_03.py', '14_pr_04.py', '15_pr_05.py', 'Chapter 12 - Advanced Python 1.pdf', 'Chapter 12 - Practice Set.pdf', 'm06_file1.py', 'm07_file2.py', 'tables.txt']\n",
      " ['m06_file1.cpython-38.pyc']\n",
      " ['01_virtualenv.py', '02_lambda.py', '03_join.py', '04_format.py', '05_map.py', '06_filter.py', '07_reduce.py', '08_pr_02.py', '09_pr_03.py', '10_pr_04.py', '11_pr_05.py', '12_pr_06.py', 'Chapter 13 - Advanced Python 2.pdf', 'Chapter 13 - Practice Set.pdf']\n",
      " ['settings.json']\n",
      " ['01_variable.py', '02_operators.py', '03_typecasting.py', '04_input_function.py', '05_pr_01_add_2_numbers.py', '06_pr_02_remainder.py', '07_pr05_avg.py', 'Chapter 2 - Practice.pdf', 'Chapter 2.pdf']\n",
      " ['settings.json']\n",
      " ['01_strings.py', '02_string_slicing.py', '03_string_functions.py', '04_escape_sequences.py', '05_pr_01.py', '06_pr_02.py', '07_pr_03.py', '08_pr_04.py', '09_pr_05.py', 'Chapter 3 Practice Set.pdf', 'Chapter 3.docx', 'Chapter 3.pdf', 'tempCodeRunnerFile.py']\n",
      " ['settings.json']\n",
      " ['01_lists.py', '02_list_slicing.py', '03_list_methods.py', '04_tuples.py', '05_tuple_methods.py', '06_pr_01_store_fruits.py', '07_pr_02_marks.py', '08_tuple_change_test.py', '09_sum_a_list.py', 'Chapter 4 - Practice Set.pdf', 'Chapter 4.pdf']\n",
      " ['01_dictionary_syntax.py', '02_dictionary_methods.py', '03_sets_in_python.py', '04_empty_set.py', '05_set_methods.py', '06_pr_01.py', '07_pr_02.py', '08_pr_03.py', '09_pr_04.py', '10_pr_06.py', 'Chapter 5 - Practice Set.docx', 'Chapter 5 - Practice Set.pdf', 'Chapter 5.docx', 'Chapter 5.pdf']\n",
      " ['01_conditionals.py', '02_if_else_quick_quiz.py', '03_logical_and_relational_operators.py', '04_in_and_is.py', '05_is_else_optional.py', '06_pr_01.py', '07_pr_02.py', '08_pr_03.py', '09_pr_05.py', '10_pr_06.py', 'Chapter 6 - Practice Set.pdf', 'Chapter 6.pdf']\n",
      " ['01_while_loop.py', '02_quick_quiz.py', '03_print_list.py', '04_print_list_for.py', '05_range_function.py', '06_for_with_else.py', '07_break_statement.py', '08_continue_statement.py', '09_pass_statement.py', '10_pr_01.py', '11_pr_02.py', '12_pr_04.py', '13_pr_06.py', '14_pr_08.py', '15_pr_07.py', 'Chapter 7 - Practice Set.pdf', 'Chapter 7.pdf']\n"
     ]
    },
    {
     "name": "stdout",
     "output_type": "stream",
     "text": [
      " ['01_functions.py', '02_quick_quiz.py', '03_default_arguments.py', '04_factorial.py', '05_pr_01.py', '06_pr_02.py', '07_pr_03.py', '08_pr_04.py', '09_pr_05.py', '10_pr_07.py', 'Chapter 8 Practice Set.pdf', 'Chapter 8.pdf']\n",
      " ['09_01_files.py', '09_02_readline.py', '09_03_write.py', '09_04_with.py', '09_05_pr_01.py', '09_06_game_pr_02.py', '09_07_pr_03.py', '09_08_pr_04.py', '09_09_pr_05.py', '09_10_pr_06.py', '09_11_pr_07.py', '09_12_pr_08.py', '09_13_pr_09.py', '09_14_pr_10.py', '09_15_pr_11.py', 'another.txt', 'Chapter 9 - Practice Set.pdf', 'Chapter 9.pdf', 'copy.txt', 'hiscore.txt', 'log.txt', 'poems.txt', 'renamed_by_python.txt', 'sample.txt', 'tempCodeRunnerFile.py', 'this.txt']\n",
      " ['Multiplication_table_of_10.txt', 'Multiplication_table_of_11.txt', 'Multiplication_table_of_12.txt', 'Multiplication_table_of_13.txt', 'Multiplication_table_of_14.txt', 'Multiplication_table_of_15.txt', 'Multiplication_table_of_16.txt', 'Multiplication_table_of_17.txt', 'Multiplication_table_of_18.txt', 'Multiplication_table_of_19.txt', 'Multiplication_table_of_2.txt', 'Multiplication_table_of_20.txt', 'Multiplication_table_of_3.txt', 'Multiplication_table_of_4.txt', 'Multiplication_table_of_5.txt', 'Multiplication_table_of_6.txt', 'Multiplication_table_of_7.txt', 'Multiplication_table_of_8.txt', 'Multiplication_table_of_9.txt']\n",
      " ['main.py', 'Project 1.pdf']\n",
      " ['hiscore.txt', 'main.py', 'Project 2.pdf', 'tempCodeRunnerFile.py']\n",
      " ['index.html', 'main.py', 'Project 3.pdf']\n",
      " ['IMG_20200813_200219.jpg', 'IMG_20200813_200338.jpg', 'IMG_20200813_200340.jpg', 'IMG_20200813_200341.jpg']\n",
      " ['IMG_20200813_200219.jpg', 'IMG_20200813_200338.jpg', 'IMG_20200813_200340.jpg', 'IMG_20200813_200341.jpg']\n",
      " ['zoo.cpython-38.pyc']\n",
      " "
     ]
    }
   ],
   "source": [
    "import os\n",
    "\n",
    "for path, folders, files in os.walk('./'):\n",
    "    print(files, end='\\n ')"
   ]
  },
  {
   "cell_type": "markdown",
   "metadata": {},
   "source": [
    "### 5. Create a list of all of the files in your parent directory (minimum five files should be available).\n"
   ]
  },
  {
   "cell_type": "code",
   "execution_count": 6,
   "metadata": {},
   "outputs": [
    {
     "data": {
      "text/plain": [
       "['.ipynb_checkpoints',\n",
       " 'Assignment_7.docx',\n",
       " 'Assignment_8.docx',\n",
       " 'Documents',\n",
       " 'FOREX',\n",
       " 'Free Music',\n",
       " 'iNUERON',\n",
       " 'Mislenous',\n",
       " 'Music',\n",
       " 'Programs',\n",
       " 'Resume',\n",
       " 'Tableau',\n",
       " 'test',\n",
       " 'txt',\n",
       " 'Video']"
      ]
     },
     "execution_count": 6,
     "metadata": {},
     "output_type": "execute_result"
    }
   ],
   "source": [
    "os.listdir('../')"
   ]
  },
  {
   "cell_type": "markdown",
   "metadata": {},
   "source": [
    "### 6. Use multiprocessing to create three separate processes. Make each one wait a random number of seconds between one and five, print the current time, and then exit.\n"
   ]
  },
  {
   "cell_type": "code",
   "execution_count": 27,
   "metadata": {},
   "outputs": [],
   "source": [
    "import multiprocessing\n",
    "import os\n",
    "\n",
    "def now(seconds):\n",
    "    from datetime import datetime\n",
    "    from time import sleep\n",
    "    sleep(seconds)\n",
    "    print(\"wait\", seconds, \"second, time is \", datetime.utcnow())\n",
    "\n",
    "if __name__== \"__main__\":\n",
    "    import random\n",
    "    for n in range(3):\n",
    "        seconds=random.random()\n",
    "        proc=multiprocessing.Process(target=now, args=(seconds,))\n",
    "        proc.start()"
   ]
  },
  {
   "cell_type": "code",
   "execution_count": 26,
   "metadata": {},
   "outputs": [
    {
     "name": "stdout",
     "output_type": "stream",
     "text": [
      "wait 25 second, time is  2021-07-26 03:31:31.864932\n"
     ]
    }
   ],
   "source": [
    "now(25)"
   ]
  },
  {
   "cell_type": "code",
   "execution_count": 28,
   "metadata": {},
   "outputs": [
    {
     "name": "stdout",
     "output_type": "stream",
     "text": [
      "wait 1 second, time is  2021-07-26 03:33:10.787990\n"
     ]
    }
   ],
   "source": [
    "now(1)"
   ]
  },
  {
   "cell_type": "markdown",
   "metadata": {},
   "source": [
    "### 7. Create a date object of your day of birth.\n"
   ]
  },
  {
   "cell_type": "code",
   "execution_count": 17,
   "metadata": {},
   "outputs": [
    {
     "name": "stdout",
     "output_type": "stream",
     "text": [
      "8\n"
     ]
    }
   ],
   "source": [
    "import datetime\n",
    "\n",
    "dob=datetime.datetime(1997,7,8)\n",
    "day=dob.day\n",
    "print(day)"
   ]
  },
  {
   "cell_type": "markdown",
   "metadata": {},
   "source": [
    "### 8. What day of the week was your day of birth?\n"
   ]
  },
  {
   "cell_type": "code",
   "execution_count": 22,
   "metadata": {},
   "outputs": [
    {
     "name": "stdout",
     "output_type": "stream",
     "text": [
      "Wednesday\n"
     ]
    }
   ],
   "source": [
    "import datetime\n",
    "import calendar\n",
    " \n",
    "def findDay(date):\n",
    "    born = datetime.datetime.strptime(date, '%d %m %Y').weekday()\n",
    "    return (calendar.day_name[born])\n",
    "\n",
    "date = '15 01 1997'\n",
    "print(findDay(date))"
   ]
  },
  {
   "cell_type": "markdown",
   "metadata": {},
   "source": [
    "### 9. When will you be (or when were you) 10,000 days old?\n"
   ]
  },
  {
   "cell_type": "code",
   "execution_count": 23,
   "metadata": {},
   "outputs": [
    {
     "name": "stdout",
     "output_type": "stream",
     "text": [
      "2024-11-23\n"
     ]
    }
   ],
   "source": [
    "delta=datetime.timedelta(days=10000)\n",
    "result=(dob+delta).date()\n",
    "print(result)"
   ]
  },
  {
   "cell_type": "code",
   "execution_count": null,
   "metadata": {},
   "outputs": [],
   "source": []
  }
 ],
 "metadata": {
  "kernelspec": {
   "display_name": "Python 3",
   "language": "python",
   "name": "python3"
  },
  "language_info": {
   "codemirror_mode": {
    "name": "ipython",
    "version": 3
   },
   "file_extension": ".py",
   "mimetype": "text/x-python",
   "name": "python",
   "nbconvert_exporter": "python",
   "pygments_lexer": "ipython3",
   "version": "3.8.5"
  }
 },
 "nbformat": 4,
 "nbformat_minor": 4
}
